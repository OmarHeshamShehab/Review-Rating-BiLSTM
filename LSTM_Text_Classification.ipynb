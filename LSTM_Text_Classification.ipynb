{
 "cells": [
  {
   "cell_type": "markdown",
   "metadata": {},
   "source": [
    "# 📦 1. Import Libraries & Configure GPU"
   ]
  },
  {
   "cell_type": "markdown",
   "metadata": {},
   "source": [
    "## Imports"
   ]
  },
  {
   "cell_type": "code",
   "execution_count": 1,
   "metadata": {},
   "outputs": [
    {
     "name": "stderr",
     "output_type": "stream",
     "text": [
      "2025-05-27 22:58:35.921480: E external/local_xla/xla/stream_executor/cuda/cuda_fft.cc:467] Unable to register cuFFT factory: Attempting to register factory for plugin cuFFT when one has already been registered\n",
      "WARNING: All log messages before absl::InitializeLog() is called are written to STDERR\n",
      "E0000 00:00:1748375915.936239   10900 cuda_dnn.cc:8579] Unable to register cuDNN factory: Attempting to register factory for plugin cuDNN when one has already been registered\n",
      "E0000 00:00:1748375915.940600   10900 cuda_blas.cc:1407] Unable to register cuBLAS factory: Attempting to register factory for plugin cuBLAS when one has already been registered\n",
      "W0000 00:00:1748375915.951716   10900 computation_placer.cc:177] computation placer already registered. Please check linkage and avoid linking the same target more than once.\n",
      "W0000 00:00:1748375915.951771   10900 computation_placer.cc:177] computation placer already registered. Please check linkage and avoid linking the same target more than once.\n",
      "W0000 00:00:1748375915.951773   10900 computation_placer.cc:177] computation placer already registered. Please check linkage and avoid linking the same target more than once.\n",
      "W0000 00:00:1748375915.951774   10900 computation_placer.cc:177] computation placer already registered. Please check linkage and avoid linking the same target more than once.\n",
      "2025-05-27 22:58:35.955887: I tensorflow/core/platform/cpu_feature_guard.cc:210] This TensorFlow binary is optimized to use available CPU instructions in performance-critical operations.\n",
      "To enable the following instructions: AVX2 FMA, in other operations, rebuild TensorFlow with the appropriate compiler flags.\n"
     ]
    }
   ],
   "source": [
    "import os, shutil, time, zipfile, spacy\n",
    "import numpy as np\n",
    "import pandas as pd\n",
    "from pathlib import Path\n",
    "\n",
    "import matplotlib.pyplot as plt\n",
    "import seaborn as sns\n",
    "\n",
    "from sklearn.metrics import accuracy_score, mean_absolute_error\n",
    "from sklearn.model_selection import train_test_split\n",
    "\n",
    "import tensorflow as tf\n",
    "from tensorflow.keras.callbacks import EarlyStopping, ReduceLROnPlateau  # type: ignore\n",
    "from tensorflow.keras.layers import Embedding, Dense, Dropout, LSTM  # type: ignore\n",
    "from tensorflow.keras.models import Sequential  # type: ignore\n",
    "from tensorflow.keras.preprocessing.sequence import pad_sequences  # type: ignore\n",
    "from tensorflow.keras.preprocessing.text import Tokenizer  # type: ignore"
   ]
  },
  {
   "cell_type": "markdown",
   "metadata": {},
   "source": [
    "## Check for GPU"
   ]
  },
  {
   "cell_type": "code",
   "execution_count": 2,
   "metadata": {},
   "outputs": [
    {
     "name": "stdout",
     "output_type": "stream",
     "text": [
      "✅ GPU detected: /physical_device:GPU:0\n"
     ]
    }
   ],
   "source": [
    "physical_devices = tf.config.list_physical_devices(\"GPU\")\n",
    "if physical_devices:\n",
    "    print(f\"✅ GPU detected: {physical_devices[0].name}\")\n",
    "    tf.config.experimental.set_memory_growth(physical_devices[0], True)\n",
    "else:\n",
    "    print(\"⚠️ No GPU found, using CPU\")"
   ]
  },
  {
   "cell_type": "markdown",
   "metadata": {},
   "source": [
    "# ⚙️ 2. Download & Set Global Configuration"
   ]
  },
  {
   "cell_type": "markdown",
   "metadata": {},
   "source": [
    "## Extact Datset"
   ]
  },
  {
   "cell_type": "code",
   "execution_count": 3,
   "metadata": {},
   "outputs": [
    {
     "name": "stdout",
     "output_type": "stream",
     "text": [
      "'dev-acad-nlp.zip' extracted to 'data'\n"
     ]
    }
   ],
   "source": [
    "folder_name = \"dev-acad-nlp\"\n",
    "zip_file_name = folder_name + \".zip\"\n",
    "data_dir = \"data\"\n",
    "\n",
    "# Ensure 'data' directory exists\n",
    "os.makedirs(data_dir, exist_ok=True)\n",
    "\n",
    "if os.path.isdir(folder_name):\n",
    "    # Zip the folder\n",
    "    shutil.make_archive(folder_name, \"zip\", folder_name)\n",
    "\n",
    "    # Remove the original folder\n",
    "    shutil.rmtree(folder_name)\n",
    "\n",
    "    # Move the zip to the data folder\n",
    "    shutil.move(zip_file_name, os.path.join(data_dir, zip_file_name))\n",
    "    print(f\"'{folder_name}' zipped and moved to '{data_dir}'\")\n",
    "\n",
    "else:\n",
    "    # If folder doesn't exist, try to extract it\n",
    "    if os.path.exists(zip_file_name):\n",
    "        with zipfile.ZipFile(zip_file_name, \"r\") as zip_ref:\n",
    "            zip_ref.extractall(data_dir)\n",
    "        print(f\"'{zip_file_name}' extracted to '{data_dir}'\")\n",
    "    else:\n",
    "        print(f\"Neither '{folder_name}' directory nor '{zip_file_name}' found.\")"
   ]
  },
  {
   "cell_type": "markdown",
   "metadata": {},
   "source": [
    "## Model & preprocessing settings"
   ]
  },
  {
   "cell_type": "code",
   "execution_count": 4,
   "metadata": {},
   "outputs": [],
   "source": [
    "MAX_NUM_WORDS = 45000\n",
    "MAX_SEQUENCE_LENGTH = 256\n",
    "EMBEDDING_DIM = 300\n",
    "BATCH_SIZE = 64\n",
    "EPOCHS = 10"
   ]
  },
  {
   "cell_type": "markdown",
   "metadata": {},
   "source": [
    "## Paths"
   ]
  },
  {
   "cell_type": "code",
   "execution_count": 5,
   "metadata": {},
   "outputs": [],
   "source": [
    "train_path = \"data/train/train/\"\n",
    "test_path = \"data/test/test\"\n",
    "labels_csv_path = \"data/labels_train.csv\"\n",
    "submission_sample_path = \"submission.csv\""
   ]
  },
  {
   "cell_type": "markdown",
   "metadata": {},
   "source": [
    "# 🗂 3. Load and Visualize Label Distribution"
   ]
  },
  {
   "cell_type": "code",
   "execution_count": 6,
   "metadata": {},
   "outputs": [
    {
     "data": {
      "image/png": "[encoded data removed]",
      "text/plain": [
       "<Figure size 1000x600 with 1 Axes>"
      ]
     },
     "metadata": {},
     "output_type": "display_data"
    }
   ],
   "source": [
    "labels_df = pd.read_csv(labels_csv_path)\n",
    "labels_dict = dict(zip(labels_df[\"ReviewID\"], labels_df[\"Rating\"]))\n",
    "\n",
    "# Plot class distribution\n",
    "plt.figure(figsize=(10, 6))\n",
    "sns.barplot(\n",
    "    x=labels_df[\"Rating\"].value_counts().sort_index().index,\n",
    "    y=labels_df[\"Rating\"].value_counts().sort_index().values,\n",
    ")\n",
    "plt.title(\"Rating Distribution\")\n",
    "plt.xlabel(\"Rating (1–10)\")\n",
    "plt.ylabel(\"Frequency\")\n",
    "plt.grid(axis=\"y\")\n",
    "plt.tight_layout()\n",
    "plt.show()"
   ]
  },
  {
   "cell_type": "markdown",
   "metadata": {},
   "source": [
    "# 📥 4. Load and Preprocess Text Data"
   ]
  },
  {
   "cell_type": "markdown",
   "metadata": {},
   "source": [
    "## Load training data"
   ]
  },
  {
   "cell_type": "code",
   "execution_count": 7,
   "metadata": {},
   "outputs": [],
   "source": [
    "train_files = sorted(Path(train_path).glob(\"*.txt\"))\n",
    "train_ids = [f.stem for f in train_files]\n",
    "train_texts = [f.read_text(encoding=\"latin-1\") for f in train_files]\n",
    "train_labels = [labels_dict[i] - 1 for i in train_ids]  # 1–10 → 0–9\n",
    "\n",
    "test_files = sorted(Path(test_path).glob(\"*.txt\"))\n",
    "test_ids = [f.stem for f in test_files]\n",
    "test_texts = [f.read_text(encoding=\"latin-1\") for f in test_files]"
   ]
  },
  {
   "cell_type": "markdown",
   "metadata": {},
   "source": [
    "## Clean Text"
   ]
  },
  {
   "cell_type": "code",
   "execution_count": 8,
   "metadata": {},
   "outputs": [],
   "source": [
    "nlp = spacy.load(\"en_core_web_sm\", disable=[\"parser\", \"ner\"])\n",
    "\n",
    "\n",
    "def clean_text(text: str) -> str:\n",
    "    doc = nlp(text)\n",
    "    tokens = [tok.lemma_.lower() for tok in doc if tok.is_alpha and not tok.is_stop]\n",
    "    return \" \".join(tokens)"
   ]
  },
  {
   "cell_type": "markdown",
   "metadata": {},
   "source": [
    "## Apply to all datasets"
   ]
  },
  {
   "cell_type": "code",
   "execution_count": 9,
   "metadata": {},
   "outputs": [],
   "source": [
    "train_texts = [clean_text(t) for t in train_texts]\n",
    "test_texts = [clean_text(t) for t in test_texts]"
   ]
  },
  {
   "cell_type": "markdown",
   "metadata": {},
   "source": [
    "# 🧪 5. Split Data for Validation"
   ]
  },
  {
   "cell_type": "code",
   "execution_count": 10,
   "metadata": {},
   "outputs": [],
   "source": [
    "X_train, X_val, y_train, y_val = train_test_split(\n",
    "    train_texts, train_labels, test_size=0.1, random_state=42\n",
    ")"
   ]
  },
  {
   "cell_type": "markdown",
   "metadata": {},
   "source": [
    "# ✂️ 6. Tokenize and Pad Sequences"
   ]
  },
  {
   "cell_type": "code",
   "execution_count": 11,
   "metadata": {},
   "outputs": [],
   "source": [
    "tokenizer = Tokenizer(num_words=MAX_NUM_WORDS, oov_token=\"<OOV>\")\n",
    "tokenizer.fit_on_texts(X_train)\n",
    "\n",
    "X_train_seq = tokenizer.texts_to_sequences(X_train)\n",
    "X_val_seq = tokenizer.texts_to_sequences(X_val)\n",
    "X_test_seq = tokenizer.texts_to_sequences(test_texts)\n",
    "\n",
    "X_train_pad = pad_sequences(X_train_seq, maxlen=MAX_SEQUENCE_LENGTH)\n",
    "X_val_pad = pad_sequences(X_val_seq, maxlen=MAX_SEQUENCE_LENGTH)\n",
    "X_test_pad = pad_sequences(X_test_seq, maxlen=MAX_SEQUENCE_LENGTH)"
   ]
  },
  {
   "cell_type": "markdown",
   "metadata": {},
   "source": [
    "# 🧠 7. Build LSTM Model"
   ]
  },
  {
   "cell_type": "code",
   "execution_count": 12,
   "metadata": {},
   "outputs": [
    {
     "name": "stderr",
     "output_type": "stream",
     "text": [
      "I0000 00:00:1748376199.688999   10900 gpu_device.cc:2019] Created device /job:localhost/replica:0/task:0/device:GPU:0 with 14215 MB memory:  -> device: 0, name: Quadro RTX 5000 with Max-Q Design, pci bus id: 0000:01:00.0, compute capability: 7.5\n"
     ]
    }
   ],
   "source": [
    "model = Sequential(\n",
    "    [\n",
    "        Embedding(MAX_NUM_WORDS, EMBEDDING_DIM),\n",
    "        LSTM(64, return_sequences=True),\n",
    "        LSTM(32),\n",
    "        Dropout(0.5),\n",
    "        Dense(32, activation=\"relu\"),\n",
    "        Dropout(0.3),\n",
    "        Dense(10, activation=\"softmax\"),\n",
    "    ]\n",
    ")\n",
    "\n",
    "model.compile(\n",
    "    loss=\"sparse_categorical_crossentropy\", optimizer=\"adam\", metrics=[\"accuracy\"]\n",
    ")"
   ]
  },
  {
   "cell_type": "markdown",
   "metadata": {},
   "source": [
    "# 🚀 8. Train the Model with Callbacks"
   ]
  },
  {
   "cell_type": "code",
   "execution_count": 13,
   "metadata": {},
   "outputs": [
    {
     "name": "stdout",
     "output_type": "stream",
     "text": [
      "Epoch 1/10\n"
     ]
    },
    {
     "name": "stderr",
     "output_type": "stream",
     "text": [
      "I0000 00:00:1748376203.224881   11901 cuda_dnn.cc:529] Loaded cuDNN version 90300\n"
     ]
    },
    {
     "name": "stdout",
     "output_type": "stream",
     "text": [
      "\u001b[1m141/141\u001b[0m \u001b[32m━━━━━━━━━━━━━━━━━━━━\u001b[0m\u001b[37m\u001b[0m \u001b[1m13s\u001b[0m 64ms/step - accuracy: 0.1785 - loss: 2.2206 - val_accuracy: 0.3410 - val_loss: 1.8388 - learning_rate: 0.0010\n",
      "Epoch 2/10\n",
      "\u001b[1m141/141\u001b[0m \u001b[32m━━━━━━━━━━━━━━━━━━━━\u001b[0m\u001b[37m\u001b[0m \u001b[1m8s\u001b[0m 60ms/step - accuracy: 0.3546 - loss: 1.7509 - val_accuracy: 0.3440 - val_loss: 1.7487 - learning_rate: 0.0010\n",
      "Epoch 3/10\n",
      "\u001b[1m 80/141\u001b[0m \u001b[32m━━━━━━━━━━━\u001b[0m\u001b[37m━━━━━━━━━\u001b[0m \u001b[1m3s\u001b[0m 59ms/step - accuracy: 0.4079 - loss: 1.4993\n",
      "Epoch 3: ReduceLROnPlateau reducing learning rate to 0.0005000000237487257.\n",
      "\u001b[1m141/141\u001b[0m \u001b[32m━━━━━━━━━━━━━━━━━━━━\u001b[0m\u001b[37m\u001b[0m \u001b[1m5s\u001b[0m 37ms/step - accuracy: 0.4126 - loss: 1.4895 - val_accuracy: 0.3440 - val_loss: 1.7533 - learning_rate: 0.0010\n",
      "Epoch 4/10\n",
      "\u001b[1m141/141\u001b[0m \u001b[32m━━━━━━━━━━━━━━━━━━━━\u001b[0m\u001b[37m\u001b[0m \u001b[1m0s\u001b[0m 59ms/step - accuracy: 0.4964 - loss: 1.2573\n",
      "Epoch 4: ReduceLROnPlateau reducing learning rate to 0.0002500000118743628.\n",
      "\u001b[1m141/141\u001b[0m \u001b[32m━━━━━━━━━━━━━━━━━━━━\u001b[0m\u001b[37m\u001b[0m \u001b[1m9s\u001b[0m 63ms/step - accuracy: 0.4964 - loss: 1.2572 - val_accuracy: 0.3330 - val_loss: 1.8714 - learning_rate: 5.0000e-04\n"
     ]
    }
   ],
   "source": [
    "early_stop = EarlyStopping(monitor=\"val_loss\", patience=2)\n",
    "reduce_lr = ReduceLROnPlateau(monitor=\"val_loss\", factor=0.5, patience=1, verbose=1)\n",
    "\n",
    "with tf.device(\"/GPU:0\" if physical_devices else \"/CPU:0\"):\n",
    "    model.fit(\n",
    "        X_train_pad,\n",
    "        np.array(y_train),\n",
    "        validation_data=(X_val_pad, np.array(y_val)),\n",
    "        epochs=EPOCHS,\n",
    "        batch_size=BATCH_SIZE,\n",
    "        callbacks=[early_stop, reduce_lr],\n",
    "    )"
   ]
  },
  {
   "cell_type": "markdown",
   "metadata": {},
   "source": [
    "# 📊 9. Evaluate on Validation Set"
   ]
  },
  {
   "cell_type": "code",
   "execution_count": 14,
   "metadata": {},
   "outputs": [
    {
     "name": "stdout",
     "output_type": "stream",
     "text": [
      "\u001b[1m32/32\u001b[0m \u001b[32m━━━━━━━━━━━━━━━━━━━━\u001b[0m\u001b[37m\u001b[0m \u001b[1m1s\u001b[0m 33ms/step\n",
      "🕒 Predictions on validation set completed in 1.263 seconds\n",
      "🎯 Accuracy on validation set: 33.3 %\n",
      "📉 MAE on validation set: 1.453\n"
     ]
    }
   ],
   "source": [
    "start = time.time()\n",
    "\n",
    "val_predictions = model.predict(X_val_pad)\n",
    "val_predicted_classes = np.argmax(val_predictions, axis=1)\n",
    "val_predicted_ratings = val_predicted_classes + 1\n",
    "val_true_ratings = np.array(y_val) + 1\n",
    "\n",
    "val_accuracy = accuracy_score(val_true_ratings, val_predicted_ratings)\n",
    "val_mae = mean_absolute_error(val_true_ratings, val_predicted_ratings)\n",
    "\n",
    "end = time.time()\n",
    "\n",
    "print(f\"🕒 Predictions on validation set completed in {end - start:.3f} seconds\")\n",
    "print(f\"🎯 Accuracy on validation set: {val_accuracy * 100:.1f} %\")\n",
    "print(f\"📉 MAE on validation set: {val_mae:.3f}\")"
   ]
  },
  {
   "cell_type": "markdown",
   "metadata": {},
   "source": [
    "# 📤 10. Predict on Test Set and Save Submission"
   ]
  },
  {
   "cell_type": "code",
   "execution_count": 15,
   "metadata": {},
   "outputs": [
    {
     "name": "stdout",
     "output_type": "stream",
     "text": [
      "\u001b[1m63/63\u001b[0m \u001b[32m━━━━━━━━━━━━━━━━━━━━\u001b[0m\u001b[37m\u001b[0m \u001b[1m2s\u001b[0m 25ms/step\n",
      "✅ submission.csv file has been saved.\n"
     ]
    }
   ],
   "source": [
    "test_predictions = model.predict(X_test_pad)\n",
    "test_predicted_classes = np.argmax(test_predictions, axis=1) + 1\n",
    "\n",
    "submission = pd.DataFrame({\"ReviewId\": test_ids, \"Rating\": test_predicted_classes})\n",
    "submission.to_csv(\"submission.csv\", index=False)\n",
    "print(\"✅ submission.csv file has been saved.\")"
   ]
  }
 ],
 "metadata": {
  "kaggle": {
   "accelerator": "none",
   "dataSources": [
    {
     "databundleVersionId": 12281615,
     "sourceId": 101254,
     "sourceType": "competition"
    }
   ],
   "dockerImageVersionId": 31040,
   "isGpuEnabled": false,
   "isInternetEnabled": false,
   "language": "python",
   "sourceType": "notebook"
  },
  "kernelspec": {
   "display_name": ".tf219",
   "language": "python",
   "name": "python3"
  },
  "language_info": {
   "codemirror_mode": {
    "name": "ipython",
    "version": 3
   },
   "file_extension": ".py",
   "mimetype": "text/x-python",
   "name": "python",
   "nbconvert_exporter": "python",
   "pygments_lexer": "ipython3",
   "version": "3.11.11"
  }
 },
 "nbformat": 4,
 "nbformat_minor": 4
}
